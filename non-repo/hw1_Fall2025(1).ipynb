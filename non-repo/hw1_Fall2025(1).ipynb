{
 "cells": [
  {
   "cell_type": "markdown",
   "metadata": {},
   "source": [
    "### Author Name: put your name here"
   ]
  },
  {
   "cell_type": "markdown",
   "metadata": {},
   "source": [
    "# Homework 1\n",
    "\n",
    "In this assignment you will get experience with Pandas, NumPy, Scikit-learn, vectorization and linear regression.\n",
    "You will build a linear regression model using the line of best fit to predict home prices (the target) given the size of the home (feature).\n",
    "\n",
    "You will first read the housing data into a Pandas dataframe.\n",
    "You will compute the line of best fit of this data and make home price predictions.\n",
    "You'll calculate the root mean squared error of your predictions and then compare your results to scikit-learn's linear regression model.\n",
    "\n",
    "Make sure to read each cell for instructions. You will need to write code in all cells with a YOUR CODE  HERE comment. \n",
    "\n",
    "You'll use NumPy vectorization for all of your computations. See https://www.programiz.com/python-programming/numpy/vectorization for help. "
   ]
  },
  {
   "cell_type": "code",
   "execution_count": 4,
   "metadata": {},
   "outputs": [],
   "source": [
    "# import NumPy, Pandas and matplotlib\n",
    "import numpy as np\n",
    "import pandas as pd\n",
    "import matplotlib.pyplot as plt"
   ]
  },
  {
   "cell_type": "code",
   "execution_count": 5,
   "metadata": {},
   "outputs": [
    {
     "data": {
      "text/html": [
       "<div>\n",
       "<style scoped>\n",
       "    .dataframe tbody tr th:only-of-type {\n",
       "        vertical-align: middle;\n",
       "    }\n",
       "\n",
       "    .dataframe tbody tr th {\n",
       "        vertical-align: top;\n",
       "    }\n",
       "\n",
       "    .dataframe thead th {\n",
       "        text-align: right;\n",
       "    }\n",
       "</style>\n",
       "<table border=\"1\" class=\"dataframe\">\n",
       "  <thead>\n",
       "    <tr style=\"text-align: right;\">\n",
       "      <th></th>\n",
       "      <th>size</th>\n",
       "      <th>price</th>\n",
       "    </tr>\n",
       "  </thead>\n",
       "  <tbody>\n",
       "    <tr>\n",
       "      <th>0</th>\n",
       "      <td>2104</td>\n",
       "      <td>399900</td>\n",
       "    </tr>\n",
       "    <tr>\n",
       "      <th>1</th>\n",
       "      <td>1600</td>\n",
       "      <td>329900</td>\n",
       "    </tr>\n",
       "    <tr>\n",
       "      <th>2</th>\n",
       "      <td>2400</td>\n",
       "      <td>369000</td>\n",
       "    </tr>\n",
       "    <tr>\n",
       "      <th>3</th>\n",
       "      <td>1416</td>\n",
       "      <td>232000</td>\n",
       "    </tr>\n",
       "    <tr>\n",
       "      <th>4</th>\n",
       "      <td>3000</td>\n",
       "      <td>539900</td>\n",
       "    </tr>\n",
       "  </tbody>\n",
       "</table>\n",
       "</div>"
      ],
      "text/plain": [
       "   size   price\n",
       "0  2104  399900\n",
       "1  1600  329900\n",
       "2  2400  369000\n",
       "3  1416  232000\n",
       "4  3000  539900"
      ]
     },
     "execution_count": 5,
     "metadata": {},
     "output_type": "execute_result"
    }
   ],
   "source": [
    "# TASK: Read home_price_data.csv into a Pandas dataframe called, df, and use the Pandas head method to display the first five rows of data\n",
    "\n",
    "df = pd.read_csv(\"home_price_data.csv\")\n",
    "df.head(5)\n"
   ]
  },
  {
   "cell_type": "code",
   "execution_count": 6,
   "metadata": {},
   "outputs": [
    {
     "name": "stdout",
     "output_type": "stream",
     "text": [
      "<class 'pandas.core.frame.DataFrame'>\n",
      "RangeIndex: 47 entries, 0 to 46\n",
      "Data columns (total 2 columns):\n",
      " #   Column  Non-Null Count  Dtype\n",
      "---  ------  --------------  -----\n",
      " 0   size    47 non-null     int64\n",
      " 1   price   47 non-null     int64\n",
      "dtypes: int64(2)\n",
      "memory usage: 884.0 bytes\n"
     ]
    }
   ],
   "source": [
    "# TASK: Use Pandas to learn more about your dataset\n",
    "# use the info() function to learn about the dataset's data types eg. df.info()\n",
    "\n",
    "df.info()"
   ]
  },
  {
   "cell_type": "code",
   "execution_count": 7,
   "metadata": {},
   "outputs": [
    {
     "data": {
      "text/html": [
       "<div>\n",
       "<style scoped>\n",
       "    .dataframe tbody tr th:only-of-type {\n",
       "        vertical-align: middle;\n",
       "    }\n",
       "\n",
       "    .dataframe tbody tr th {\n",
       "        vertical-align: top;\n",
       "    }\n",
       "\n",
       "    .dataframe thead th {\n",
       "        text-align: right;\n",
       "    }\n",
       "</style>\n",
       "<table border=\"1\" class=\"dataframe\">\n",
       "  <thead>\n",
       "    <tr style=\"text-align: right;\">\n",
       "      <th></th>\n",
       "      <th>size</th>\n",
       "      <th>price</th>\n",
       "    </tr>\n",
       "  </thead>\n",
       "  <tbody>\n",
       "    <tr>\n",
       "      <th>count</th>\n",
       "      <td>47.000000</td>\n",
       "      <td>47.000000</td>\n",
       "    </tr>\n",
       "    <tr>\n",
       "      <th>mean</th>\n",
       "      <td>2000.680851</td>\n",
       "      <td>340412.659574</td>\n",
       "    </tr>\n",
       "    <tr>\n",
       "      <th>std</th>\n",
       "      <td>794.702354</td>\n",
       "      <td>125039.899586</td>\n",
       "    </tr>\n",
       "    <tr>\n",
       "      <th>min</th>\n",
       "      <td>852.000000</td>\n",
       "      <td>169900.000000</td>\n",
       "    </tr>\n",
       "    <tr>\n",
       "      <th>25%</th>\n",
       "      <td>1432.000000</td>\n",
       "      <td>249900.000000</td>\n",
       "    </tr>\n",
       "    <tr>\n",
       "      <th>50%</th>\n",
       "      <td>1888.000000</td>\n",
       "      <td>299900.000000</td>\n",
       "    </tr>\n",
       "    <tr>\n",
       "      <th>75%</th>\n",
       "      <td>2269.000000</td>\n",
       "      <td>384450.000000</td>\n",
       "    </tr>\n",
       "    <tr>\n",
       "      <th>max</th>\n",
       "      <td>4478.000000</td>\n",
       "      <td>699900.000000</td>\n",
       "    </tr>\n",
       "  </tbody>\n",
       "</table>\n",
       "</div>"
      ],
      "text/plain": [
       "              size          price\n",
       "count    47.000000      47.000000\n",
       "mean   2000.680851  340412.659574\n",
       "std     794.702354  125039.899586\n",
       "min     852.000000  169900.000000\n",
       "25%    1432.000000  249900.000000\n",
       "50%    1888.000000  299900.000000\n",
       "75%    2269.000000  384450.000000\n",
       "max    4478.000000  699900.000000"
      ]
     },
     "execution_count": 7,
     "metadata": {},
     "output_type": "execute_result"
    }
   ],
   "source": [
    "# TASK: # Use the describe() function to get statistics like the min, max, mean etc. of each variable in the dataframe\n",
    "\n",
    "df.describe()"
   ]
  },
  {
   "cell_type": "code",
   "execution_count": 8,
   "metadata": {},
   "outputs": [
    {
     "data": {
      "text/plain": [
       "size     0\n",
       "price    0\n",
       "dtype: int64"
      ]
     },
     "execution_count": 8,
     "metadata": {},
     "output_type": "execute_result"
    }
   ],
   "source": [
    "# TASK: Check for missing values in each column using isnull().sum()\n",
    "\n",
    "df.isnull().sum()"
   ]
  },
  {
   "cell_type": "code",
   "execution_count": 9,
   "metadata": {},
   "outputs": [
    {
     "data": {
      "text/plain": [
       "np.int64(0)"
      ]
     },
     "execution_count": 9,
     "metadata": {},
     "output_type": "execute_result"
    }
   ],
   "source": [
    "# TASK: Check for duplicate rows in the dataset using duplicated().sum()\n",
    "\n",
    "df.duplicated().sum()"
   ]
  },
  {
   "cell_type": "markdown",
   "metadata": {},
   "source": [
    "## Convert the dataframe to a NumPy array\n",
    "\n",
    "Pandas is nice to read in data and store in a dataframe that looks like an excel spreadsheet. Let's covert the dataframe to numpy arrays we can work with.\n",
    "\n",
    "Store the entire dataset in a numpy array called data -> data=df.values\n",
    "\n",
    "Store the feature in a numpy array X - (check the dataframe. What column is size in? Use slicing to store that one column in a variable called, X) \n",
    "Store the price, our label, in a numpy array Y - (do the same for Y)\n",
    "\n",
    "Print the first 5 rows of data, X and Y"
   ]
  },
  {
   "cell_type": "code",
   "execution_count": 10,
   "metadata": {},
   "outputs": [
    {
     "name": "stdout",
     "output_type": "stream",
     "text": [
      "[[  2104 399900]\n",
      " [  1600 329900]\n",
      " [  2400 369000]\n",
      " [  1416 232000]\n",
      " [  3000 539900]]\n",
      "[2104 1600 2400 1416 3000]\n",
      "[399900 329900 369000 232000 539900]\n"
     ]
    }
   ],
   "source": [
    "# TASK\n",
    "# Store the entire dataset in a numpy array called data\n",
    "# Store the size feature in a numpy array X\n",
    "# Store the price feature, our label, in a numpy array Y\n",
    "# Print data, X and Y\n",
    "\n",
    "data = np.array(df.values)\n",
    "X = df['size'].to_numpy()\n",
    "Y = df['price'].to_numpy()\n",
    "\n",
    "print(data[:5])\n",
    "print(X[:5])\n",
    "print(Y[:5])\n",
    " "
   ]
  },
  {
   "cell_type": "code",
   "execution_count": 12,
   "metadata": {},
   "outputs": [
    {
     "data": {
      "image/png": "[encoded data removed]",
      "text/plain": [
       "<Figure size 640x480 with 1 Axes>"
      ]
     },
     "metadata": {},
     "output_type": "display_data"
    }
   ],
   "source": [
    "# This code will plot the data, X and Y using a scatter plot\n",
    "# Make sure you stored the size in X and the price in Y\n",
    "\n",
    "plt.scatter(X,Y)\n",
    "plt.title('Home Prices by Home Size')\n",
    "plt.xlabel('Size')\n",
    "plt.ylabel('Price')\n",
    "plt.show()"
   ]
  },
  {
   "cell_type": "markdown",
   "metadata": {},
   "source": [
    "## Linear Regression Using NumPy Vectorization\n",
    "\n",
    "The plot shows a linear relationship between size and price. A linear regression model looks like a good choice to model home prices. Let's use the line of best fit to create the model. We'll compute the line of best fit using vectorization. \n",
    "\n",
    "NumPy vectorization involves performing mathematical operations on entire arrays, eliminating the need to loop through individual elements. For more information see, https://www.programiz.com/python-programming/numpy/vectorization\n",
    "\n",
    "Let's practice it first using the numpy array created for you in the code cell below."
   ]
  },
  {
   "cell_type": "code",
   "execution_count": 13,
   "metadata": {},
   "outputs": [],
   "source": [
    "arr=np.array([8,2,11,6,5,4,12,9,6,1])"
   ]
  },
  {
   "cell_type": "code",
   "execution_count": 14,
   "metadata": {},
   "outputs": [
    {
     "name": "stdout",
     "output_type": "stream",
     "text": [
      "[13  7 16 11 10  9 17 14 11  6]\n"
     ]
    }
   ],
   "source": [
    "# TASK\n",
    "# Use vectorization to create a new array called, newarr, with 5 added to each element of the array above. \n",
    "# The new array should have the following values:\n",
    "# [13,7,16,11,10,9,17,14,11,6]\n",
    "# print the new numpy array to confirm it is correct\n",
    "# Remember, don't use any loops for this.\n",
    "\n",
    "newarr = arr + 5\n",
    "print(newarr)"
   ]
  },
  {
   "cell_type": "markdown",
   "metadata": {},
   "source": [
    "# Normalization\n",
    "\n",
    "Next, let's continue to practice vectorization and normalize the data in arr.\n",
    "\n",
    "The goal of normalization is to transform features to be on a similar scale. This improves the performance and training stability of a machine learnin model. We'll learn more about this throughout the semester. \n",
    "\n",
    "Using the original array, arr, create a new array with normalized data. Use this formula.\n",
    "\n",
    "Use this formula\n",
    "![NORMALIZE](normalize.png) \n"
   ]
  },
  {
   "cell_type": "code",
   "execution_count": 15,
   "metadata": {},
   "outputs": [
    {
     "name": "stdout",
     "output_type": "stream",
     "text": [
      "[0.63636364 0.09090909 0.90909091 0.45454545 0.36363636 0.27272727\n",
      " 1.         0.72727273 0.45454545 0.        ]\n"
     ]
    }
   ],
   "source": [
    "# TASK\n",
    "# create a new array called, normalized\n",
    "# the result should be [0.63636364, 0.09090909, 0.90909091, 0.45454545, 0.36363636, 0.27272727, 1., 0.72727273, 0.45454545, 0.])\n",
    "# Remember, don't use any loops for this.\n",
    "\n",
    "normalized = ((arr - np.min(arr))/(np.max(arr) - np.min(arr)))\n",
    "print(normalized)"
   ]
  },
  {
   "cell_type": "markdown",
   "metadata": {},
   "source": [
    "## Line of Best Fit\n",
    "\n",
    "Now we're ready to compute the line of best fit using vectorization. \n",
    "\n",
    "Use the least squares method to compute the line of best fit: y = mx + b\n",
    "\n",
    "We will use this function to predict home prices given the size of a home.\n",
    "\n",
    "For more information on the line of best fit see, https://www.varsitytutors.com/hotmath/hotmath_help/topics/line-of-best-fit\n"
   ]
  },
  {
   "attachments": {
    "9c3c6f6b-9ce4-4edd-a728-eaa3ac1799d7.png": {
     "image/png": "[encoded data removed]"
    }
   },
   "cell_type": "markdown",
   "metadata": {},
   "source": [
    "#### Use the following formula to compute the slope\n",
    "Use NumPy vecotrization, do not use loops.\n",
    "\n",
    "![image.png](attachment:9c3c6f6b-9ce4-4edd-a728-eaa3ac1799d7.png)"
   ]
  },
  {
   "cell_type": "code",
   "execution_count": 16,
   "metadata": {},
   "outputs": [
    {
     "name": "stdout",
     "output_type": "stream",
     "text": [
      "2000.6808510638298 340412.6595744681\n"
     ]
    }
   ],
   "source": [
    "# TASK\n",
    "# Let's do this step by step.\n",
    "# First calculate the mean of X and the mean of Y. You can use vectorization or NumPy has a function mean you can use.\n",
    "# Eg. mean_x = np.mean(X)\n",
    "\n",
    "mean_x = np.mean(X)\n",
    "mean_y = np.mean(Y)\n",
    "\n",
    "print(mean_x, mean_y)"
   ]
  },
  {
   "cell_type": "code",
   "execution_count": 17,
   "metadata": {},
   "outputs": [
    {
     "name": "stdout",
     "output_type": "stream",
     "text": [
      "1441116801319.2576 8469763704.2933445\n",
      "170.14840692530206\n"
     ]
    }
   ],
   "source": [
    "# TASK\n",
    "# Now compute the sum of the vector X minus the mean of X\n",
    "# Then the sum of the vector Y minus the mean of Y\n",
    "# Then use those values to compute m\n",
    "\n",
    "mwx = np.sum(X) - mean_x\n",
    "mwy = np.sum(Y) - mean_y\n",
    "\n",
    "num = mwx * mwy\n",
    "den = np.sum(mwx ** 2)\n",
    "\n",
    "m = num/den\n",
    "\n",
    "print(num, den)\n",
    "print(m)"
   ]
  },
  {
   "attachments": {
    "7eaa7d54-5f5a-4f50-b094-1fdc05c9bb32.png": {
     "image/png": "[encoded data removed]"
    }
   },
   "cell_type": "markdown",
   "metadata": {},
   "source": [
    "#### Calculate the y intercept\n",
    "![image.png](attachment:7eaa7d54-5f5a-4f50-b094-1fdc05c9bb32.png)"
   ]
  },
  {
   "cell_type": "code",
   "execution_count": 18,
   "metadata": {},
   "outputs": [
    {
     "name": "stdout",
     "output_type": "stream",
     "text": [
      "-5.820766091346741e-11\n"
     ]
    }
   ],
   "source": [
    "# TASK\n",
    "# YOUR CODE GOES HERE\n",
    "b = mean_y - (m * mean_x)\n",
    "\n",
    "print(b)"
   ]
  },
  {
   "cell_type": "markdown",
   "metadata": {},
   "source": [
    "# Make Predictions\n",
    "\n",
    "You have the slope, m and the y intercept, b. This is what you need for the line of best fit, y = mx + b. \n",
    "\n",
    "Now use your line of best fit to make predictions. Create a new array called Y_pred and use the function y = mX + b to create predictions using the training set X. Again use vectorization, no loops. "
   ]
  },
  {
   "cell_type": "code",
   "execution_count": 19,
   "metadata": {},
   "outputs": [],
   "source": [
    "# TASK\n",
    "Y_pred = (m * X) + b"
   ]
  },
  {
   "cell_type": "code",
   "execution_count": 20,
   "metadata": {},
   "outputs": [
    {
     "data": {
      "text/plain": [
       "Text(0.5, 0, 'Population of City in 10,000s')"
      ]
     },
     "execution_count": 20,
     "metadata": {},
     "output_type": "execute_result"
    },
    {
     "data": {
      "image/png": "[encoded data removed]",
      "text/plain": [
       "<Figure size 640x480 with 1 Axes>"
      ]
     },
     "metadata": {},
     "output_type": "display_data"
    }
   ],
   "source": [
    "# Plot the linear fit\n",
    "# Run this code to see your line of best fit\n",
    "# Make sure your predictions are in Y_pred\n",
    "plt.plot(X, Y_pred, c = \"b\")\n",
    "\n",
    "# # Create a scatter plot of the data. \n",
    "plt.scatter(X, Y, marker='x', c='r') \n",
    "\n",
    "# Set the title\n",
    "plt.title(\"Profits vs. Population per city\")\n",
    "# Set the y-axis label\n",
    "plt.ylabel('Profit in $10,000')\n",
    "# Set the x-axis label\n",
    "plt.xlabel('Population of City in 10,000s')"
   ]
  },
  {
   "cell_type": "markdown",
   "metadata": {},
   "source": [
    "# Root Mean Square Error\n",
    "\n",
    "Let's see how well your model did by calculating the root mean square error of the predictions. Create a python function called, root_mean_squared_error, that calculates the root mean squared error of your model.\n",
    "\n",
    "![RMSE](rmse.png) "
   ]
  },
  {
   "cell_type": "code",
   "execution_count": 21,
   "metadata": {},
   "outputs": [],
   "source": [
    "# TASK\n",
    "# Get the RMSE of your line \n",
    "\n",
    "import math\n",
    "\n",
    "def root_mean_squared_error(y, yhat):\n",
    "    y = np.array(y)\n",
    "    yhat = np.array(yhat)\n",
    "    diffs = y - yhat\n",
    "    squared_diffs = diffs ** 2\n",
    "    mean_squared_error = np.mean(squared_diffs)\n",
    "    rmse = np.sqrt(mean_squared_error)\n",
    "\n",
    "    return rmse"
   ]
  },
  {
   "cell_type": "code",
   "execution_count": 22,
   "metadata": {},
   "outputs": [
    {
     "data": {
      "text/plain": [
       "np.float64(70004.69232631693)"
      ]
     },
     "execution_count": 22,
     "metadata": {},
     "output_type": "execute_result"
    }
   ],
   "source": [
    "# Let's test out your function\n",
    "root_mean_squared_error(Y, Y_pred)"
   ]
  },
  {
   "cell_type": "markdown",
   "metadata": {},
   "source": [
    "# Scikit-Learn Linear Regression Model\n",
    "\n",
    "The popular Python machine learning package, scikit-learn, has a linear regression model. Let's compare your line of best fit to scikit-learn's linear regression model."
   ]
  },
  {
   "cell_type": "code",
   "execution_count": 23,
   "metadata": {},
   "outputs": [
    {
     "name": "stdout",
     "output_type": "stream",
     "text": [
      "[71270.49244873] -5.820766091346741e-11\n",
      "[[134.52528772]] 170.14840692530206\n"
     ]
    }
   ],
   "source": [
    "# Read and run this code\n",
    "\n",
    "# step1: import the library\n",
    "from sklearn.linear_model import LinearRegression\n",
    "from sklearn.metrics import mean_squared_error\n",
    "\n",
    "# step2: creat a LinearRegression object\n",
    "lin_reg = LinearRegression()\n",
    "\n",
    "# You must first reshape X to a X.size by 1 array.\n",
    "# Scikit-learn's models expect each sample and output to be in it's own array\n",
    "# For example, the array X with sizes [2104,1600,...] needs to look like [[2104],[1600],...]\n",
    "# And the array Y with the labels needs to be stored as [[399900][329900]...]\n",
    "# This code will reshape the array, X, to an array with size (number of rows in X x 1col)\n",
    "X=X.reshape(X.size, 1)\n",
    "Y=Y.reshape(Y.size, 1)\n",
    "\n",
    "# the fit function uses X and Y to create the linear regression model\n",
    "lin_reg.fit(X, Y) \n",
    "\n",
    "# step3: check the intercept_ and coef_\n",
    "# Are they the same or close to your line of best fit (they should be)?\n",
    "print(lin_reg.intercept_, b) \n",
    "print(lin_reg.coef_, m)"
   ]
  },
  {
   "cell_type": "code",
   "execution_count": 24,
   "metadata": {},
   "outputs": [],
   "source": [
    "# Now use the predict method to make predictions using linear regression.\n",
    "y_pred = lin_reg.predict(X)"
   ]
  },
  {
   "cell_type": "code",
   "execution_count": 25,
   "metadata": {},
   "outputs": [
    {
     "data": {
      "text/plain": [
       "np.float64(64158.128720109074)"
      ]
     },
     "execution_count": 25,
     "metadata": {},
     "output_type": "execute_result"
    }
   ],
   "source": [
    "# Use your root mean squared error function you created above to calculate this model's rmse\n",
    "root_mean_squared_error(Y, y_pred)"
   ]
  },
  {
   "cell_type": "markdown",
   "metadata": {},
   "source": [
    "# Summary"
   ]
  },
  {
   "cell_type": "code",
   "execution_count": null,
   "metadata": {},
   "outputs": [],
   "source": [
    "# In you own words answer the following questions. \n",
    "# step 1: create a new markdown cell\n",
    "# step 2: answer the following\n",
    "# - Imagine you are presenting this dataset to a team. Which three insights would you highlight and why?\n",
    "# You insights could be about data cleaning/exploration, data vizualization, data normalization,\n",
    "# linear regression, predictions or anything else you find interesting."
   ]
  },
  {
   "cell_type": "markdown",
   "id": "b32c654a",
   "metadata": {},
   "source": [
    "I would highlight that the data itself was already clean and ready to work with, since we were able to easily explore the dataset without any preprocessing. I would also highlight that based on the data, there is a strong linear relationship between home size and price, so bigger homes cost more. Finally, I would highlight that the data can be easily be visualized in any way that it needs to be; it's very cooperative with numpy's functions."
   ]
  },
  {
   "cell_type": "markdown",
   "metadata": {},
   "source": [
    "# You're finished. Congratulations!"
   ]
  },
  {
   "cell_type": "code",
   "execution_count": null,
   "metadata": {},
   "outputs": [],
   "source": []
  }
 ],
 "metadata": {
  "kernelspec": {
   "display_name": "conda_class",
   "language": "python",
   "name": "python3"
  },
  "language_info": {
   "codemirror_mode": {
    "name": "ipython",
    "version": 3
   },
   "file_extension": ".py",
   "mimetype": "text/x-python",
   "name": "python",
   "nbconvert_exporter": "python",
   "pygments_lexer": "ipython3",
   "version": "3.13.5"
  }
 },
 "nbformat": 4,
 "nbformat_minor": 5
}
